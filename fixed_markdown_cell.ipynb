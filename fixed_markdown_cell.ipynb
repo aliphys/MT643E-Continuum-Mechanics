{
 "cells": [
  {
   "cell_type": "markdown",
   "id": "c47a9634",
   "metadata": {},
   "source": []
  }
 ],
 "metadata": {
  "language_info": {
   "name": "python"
  }
 },
 "nbformat": 4,
 "nbformat_minor": 5
}
