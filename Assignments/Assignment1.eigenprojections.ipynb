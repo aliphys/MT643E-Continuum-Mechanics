{
 "cells": [
  {
   "cell_type": "markdown",
   "id": "dd633b96",
   "metadata": {},
   "source": [
    "# Assignment 1: Eigen Projections\n",
    "Ali Jahangiri"
   ]
  },
  {
   "cell_type": "markdown",
   "id": "6d614bdd",
   "metadata": {},
   "source": [
    "In this assignment, we wish to calculate the eigen projections of a second order tensor. To do so, first we will import the required libraries."
   ]
  },
  {
   "cell_type": "code",
   "execution_count": 5,
   "id": "83a0d39b",
   "metadata": {},
   "outputs": [
    {
     "name": "stdout",
     "output_type": "stream",
     "text": [
      "Requirement already satisfied: numpy in /home/user/Documents/GitHub/MT643E-Continuum-Mechanics/.venv/lib/python3.12/site-packages (2.2.5)\n",
      "Requirement already satisfied: scipy in /home/user/Documents/GitHub/MT643E-Continuum-Mechanics/.venv/lib/python3.12/site-packages (1.15.2)\n",
      "Requirement already satisfied: numpy<2.5,>=1.23.5 in /home/user/Documents/GitHub/MT643E-Continuum-Mechanics/.venv/lib/python3.12/site-packages (from scipy) (2.2.5)\n"
     ]
    }
   ],
   "source": [
    "!pip install numpy\n",
    "!pip install scipy\n",
    "import numpy as np\n",
    "import cmath\n",
    "from scipy.linalg import expm #for verification\n",
    "import sys"
   ]
  },
  {
   "cell_type": "markdown",
   "id": "12ad5823",
   "metadata": {},
   "source": [
    "## Part A: Eigenvalue Computations"
   ]
  },
  {
   "cell_type": "markdown",
   "id": "51f14b85",
   "metadata": {},
   "source": [
    "We define three Numpy arrays as follows:\n",
    "\n",
    "$$\n",
    "\\begin{cases}\n",
    "A=\n",
    "\\begin{pmatrix}\n",
    "1 & 1 &  4 \\\\\n",
    "1 & 3 &  4 \\\\\n",
    "4 & 4 & -2 \n",
    "\\end{pmatrix} \\\\\n",
    "B=\n",
    "\\begin{pmatrix}\n",
    "1 & 1 &  1 \\\\\n",
    "0 & 2 &  2 \\\\\n",
    "0 & 0 &  3 \n",
    "\\end{pmatrix} \\\\\n",
    "C=\n",
    "\\begin{pmatrix}\n",
    "2 & 0 &  0 \\\\\n",
    "0 & 2 &  0 \\\\\n",
    "0 & 0 &  2 \n",
    "\\end{pmatrix}\n",
    "\\end{cases}\n",
    "$$"
   ]
  },
  {
   "cell_type": "code",
   "execution_count": 7,
   "id": "d8e63893",
   "metadata": {},
   "outputs": [],
   "source": [
    "A=np.array([[1,1,4],[1,3,4],[4,4,-2]]) \n",
    "B=np.array([[1,1,1],[0,2,2],[0,0,3]]) \n",
    "C=np.array([[2.,0,0],[0,2.,0],[0,0,2.]]) "
   ]
  },
  {
   "cell_type": "markdown",
   "id": "96878def",
   "metadata": {},
   "source": [
    "With the matrix $A, B$ and $C$ determined, we now specify the variable $T$ to point to matrix $B$. Later, we will create a function, but for now the notebook will walk through the steps for Tensor B."
   ]
  },
  {
   "cell_type": "code",
   "execution_count": 8,
   "id": "536f1e2a",
   "metadata": {},
   "outputs": [],
   "source": [
    "T=B"
   ]
  },
  {
   "cell_type": "markdown",
   "id": "bb3af965",
   "metadata": {},
   "source": [
    "We now, progress to calculate the values for $J_1$, $J_2$ and $J_3$\n",
    "\n",
    "$$\n",
    "\\begin{cases}\n",
    "J_1 = \\mathrm{tr}(T)\\\\\n",
    "J_2 = \\frac{1}{2}[J_1^2 - \\mathrm{T^2}] \\\\\n",
    "J_3 = \\det T\n",
    "\\end{cases}\n",
    "$$"
   ]
  },
  {
   "cell_type": "code",
   "execution_count": 10,
   "id": "45c65fef",
   "metadata": {},
   "outputs": [],
   "source": [
    "I = np.eye(3)\n",
    "J1 = np.trace(T)\n",
    "J2 = 0.5 * (J1**2 - np.trace(np.dot(T, T)))\n",
    "J3 = np.linalg.det(T)"
   ]
  },
  {
   "cell_type": "markdown",
   "id": "2921da90",
   "metadata": {},
   "source": [
    "`EigenV` is defined to store the values for the three eigen values. In general, this is determined by the formula\n",
    "\n",
    "$$\n",
    "\\lambda_k = \\frac{1}{3}\n",
    "\\left[\n",
    "    J_1 + 2\\sqrt(J_1^2-3J_2) \\cos{\\frac{1}{3}(\\phi + 2\\pi [k-1])}\n",
    "\\right]\n",
    "$$\n",
    "where\n",
    "$$\n",
    "\\phi = \\arccos{\\frac{2J_1^3-9J_1J_2+27J_3}{2(J_1^2-3J_2)^{3/2}}}\n",
    "$$\n",
    "\n",
    "However, in the case where $J_1^2-3J_2 = 0$, $\\lambda_k$ is not obtainable via the above formula. Instead we have\n",
    "\n",
    "$$\n",
    "\\lambda_k = \\frac{1}{3}J_1 +\n",
    "\\frac{1}{3}\\left[ \n",
    "    27J_3-J_1^3\n",
    "\\right]^\\frac{1}{3}\n",
    "\\left[\n",
    "    \\cos{\\frac{2}{3} \\pi k}\n",
    "\\right]\n",
    "$$"
   ]
  },
  {
   "cell_type": "code",
   "execution_count": null,
   "id": "18575dc9",
   "metadata": {},
   "outputs": [],
   "source": [
    "EigenV=np.array([0.,0.,0.])\n",
    "\n",
    "if J1**2-3*J2 == 0:\n",
    "    for k in range(1,4):\n",
    "        EigenV[k-1] = (1/3) * J1 + (1/3) * (27*J3 - J1**3)**(1/3) * np.cos((2/3)*np.pi*k)\n",
    "else:\n",
    "    phi = np.arccos((2*J1**3 - 9*J1*J2 + 27*J3) / (2 * np.sqrt((J1**2 - 3*J2)**3)))\n",
    "    for k in range(1,4):\n",
    "        EigenV[k-1] = (1/3) * (J1 + 2 * np.sqrt(J1**2 - 3*J2) * np.cos((phi + 2*np.pi*k)/3))  #corrected multiplication      "
   ]
  },
  {
   "cell_type": "markdown",
   "id": "e873365b",
   "metadata": {},
   "source": [
    "In another special case where we have duplicate eigenvalues, we pertubate them. We define $\\lambda_1$ and $\\lambda_2$ as being duplicate when this condition holds \n",
    "\n",
    "$$\n",
    "\\frac{|\\lambda_i - \\lambda_j|}{\\max{|\\lambda_1|, |\\lambda_2|,|\\lambda_3|}}\n",
    "< \\delta\n",
    "$$\n",
    "\n",
    "In case that this inequality holds (based on tolerance set in code below) we have the following eigenvalues\n",
    "\n",
    "$$\n",
    "\\begin{cases}\n",
    "\\lambda_i = \\lambda_1 (1+\\delta) \\\\\n",
    "\\lambda_j = \\lambda_1 (1-\\delta) \\\\\n",
    "\\lambda_k = \\frac{\\lambda_k}{(1+\\delta)(1-\\delta)}\n",
    "\\end{cases}\n",
    "$$"
   ]
  },
  {
   "cell_type": "code",
   "execution_count": 17,
   "id": "8ec1244c",
   "metadata": {},
   "outputs": [
    {
     "name": "stdout",
     "output_type": "stream",
     "text": [
      "Eigenvalues: [1. 2. 3.]\n"
     ]
    }
   ],
   "source": [
    "#specify conditions\n",
    "delta = 1e-6 # don't need tol, delta does it too :)\n",
    "maxEig = np.max(np.abs(EigenV)) #denominator\n",
    "\n",
    "if maxEig == 0:\n",
    "    print(\"Eigenvalues are zero, fix the code.\")\n",
    "    sys.exit()\n",
    "\n",
    "if abs(EigenV[0]-EigenV[1])/maxEig < delta:\n",
    "    EigenV[0] = EigenV[0] * (1 + delta)\n",
    "    EigenV[1] = EigenV[1] * (1 - delta)\n",
    "    EigenV[2] = EigenV[2] / ((1 + delta)*(1-delta))\n",
    "elif abs(EigenV[0]-EigenV[2])/maxEig < delta:\n",
    "    EigenV[0] = EigenV[0] * (1 + delta)\n",
    "    EigenV[1] = EigenV[1] / ((1 + delta)*(1-delta))\n",
    "    EigenV[2] = EigenV[2] * (1 - delta)\n",
    "elif abs(EigenV[1]-EigenV[2])/maxEig < delta:\n",
    "    EigenV[0] = EigenV[0] / ((1 + delta)*(1-delta))\n",
    "    EigenV[1] = EigenV[1] * (1 + delta)\n",
    "    EigenV[2] = EigenV[2] * (1 - delta)\n",
    "\n",
    "#print the magic\n",
    "print(\"Eigenvalues:\", EigenV)\n"
   ]
  },
  {
   "cell_type": "markdown",
   "id": "7cce08a0",
   "metadata": {},
   "source": [
    "## Part B: Calculate Eigenprojection"
   ]
  },
  {
   "cell_type": "markdown",
   "id": "a2fffc77",
   "metadata": {},
   "source": [
    "We now have the eigenvalue matrix values! 🎉\n",
    "To calculate the eigenprojections, first we must calculate the products of the eigenvalue differences. \n",
    "\n",
    "$$\n",
    "D_i = \\prod_{j=\\frac{1}{3}}^3 [\\lambda_i - \\lambda_j]\n",
    "$$"
   ]
  },
  {
   "cell_type": "code",
   "execution_count": 16,
   "id": "2699a011",
   "metadata": {},
   "outputs": [
    {
     "name": "stdout",
     "output_type": "stream",
     "text": [
      "Differences: [ 2. -1.  2.]\n"
     ]
    }
   ],
   "source": [
    "D = np.array([0.,0.,0.])\n",
    "#can we use np.prod?\n",
    "D[0] = (EigenV[0] - EigenV[1]) * (EigenV[0] - EigenV[2])\n",
    "D[1] = (EigenV[1] - EigenV[0]) * (EigenV[1] - EigenV[2])\n",
    "D[2] = (EigenV[2] - EigenV[0]) * (EigenV[2] - EigenV[1])\n",
    "\n",
    "print(\"Differences:\", D)"
   ]
  },
  {
   "cell_type": "markdown",
   "id": "d30dc533",
   "metadata": {},
   "source": [
    "Phew! Nearly there. Next and final step is to put together the pieces of the eigen projection. \n",
    "\n",
    "$$\n",
    "P_i = \\frac{1}{D_i}\\prod_{j=\\frac{1}{i}}^3 [T-\\lambda_j I]\n",
    "$$"
   ]
  },
  {
   "cell_type": "code",
   "execution_count": 26,
   "id": "181ac143",
   "metadata": {},
   "outputs": [
    {
     "name": "stdout",
     "output_type": "stream",
     "text": [
      "P_1=\n",
      "array([[ 1.00000000e+00, -1.00000000e+00,  5.00000000e-01],\n",
      "       [ 0.00000000e+00, -2.22044605e-16,  4.44089210e-16],\n",
      "       [ 0.00000000e+00,  0.00000000e+00,  0.00000000e+00]])\n",
      "P_2=\n",
      "array([[ 1.00000000e+00, -1.00000000e+00,  5.00000000e-01],\n",
      "       [ 0.00000000e+00, -2.22044605e-16,  4.44089210e-16],\n",
      "       [ 0.00000000e+00,  0.00000000e+00,  0.00000000e+00]])\n",
      "P_3=\n",
      "array([[ 1.00000000e+00, -1.00000000e+00,  5.00000000e-01],\n",
      "       [ 0.00000000e+00, -2.22044605e-16,  4.44089210e-16],\n",
      "       [ 0.00000000e+00,  0.00000000e+00,  0.00000000e+00]])\n"
     ]
    }
   ],
   "source": [
    "P = [] #empty array\n",
    "for i in range(3):\n",
    "    temp = I.copy() # identity matrix\n",
    "    for j in range(3):\n",
    "        if i != j: \n",
    "            temp = np.dot(temp, (T - EigenV[j] * I))\n",
    "    P.append(temp / D[i])\n",
    "\n",
    "#print(\"Eigenprojections\", P) # how to make it pretty\n",
    "\n",
    "from pprint import pprint\n",
    "print(\"P_1=\")\n",
    "pprint(P[0])\n",
    "print(\"P_2=\")\n",
    "pprint(P[0]) \n",
    "print(\"P_3=\")\n",
    "pprint(P[0]) "
   ]
  },
  {
   "cell_type": "markdown",
   "id": "f83b959f",
   "metadata": {},
   "source": [
    "## Part C: Verification"
   ]
  },
  {
   "cell_type": "markdown",
   "id": "58881067",
   "metadata": {},
   "source": [
    "To make this testable, we will define a function, and throw everthing we did so far into it. "
   ]
  },
  {
   "cell_type": "code",
   "execution_count": 29,
   "id": "aac40682",
   "metadata": {},
   "outputs": [],
   "source": [
    "def calcEP(T):\n",
    "    I = np.eye(3)\n",
    "    J1 = np.trace(T)\n",
    "    J2 = 0.5 * (J1**2 - np.trace(np.dot(T, T)))\n",
    "    J3 = np.linalg.det(T)\n",
    "    EigenV = np.array([0.,0.,0.])\n",
    "    if J1**2-3*J2 == 0:\n",
    "        for k in range(1,4):\n",
    "            EigenV[k-1] = (1/3) * J1 + (1/3) * (27*J3 - J1**3)**(1/3) * np.cos((2/3)*np.pi*k)\n",
    "    else:\n",
    "        phi = np.arccos((2*J1**3 - 9*J1*J2 + 27*J3) / (2 * np.sqrt((J1**2 - 3*J2)**3)))\n",
    "        for k in range(1,4):\n",
    "            EigenV[k-1] = (1/3) * (J1 + 2 * np.sqrt(J1**2 - 3*J2) * np.cos((phi + 2*np.pi*k)/3))  #corrected multiplication\n",
    "    #specify conditions\n",
    "    delta = 1e-6 # don't need tol, delta does it too :)\n",
    "    maxEig = np.max(np.abs(EigenV)) #denominator\n",
    "\n",
    "    if maxEig == 0:\n",
    "        print(\"Eigenvalues are zero, fix the code.\")\n",
    "        sys.exit()\n",
    "\n",
    "    if abs(EigenV[0]-EigenV[1])/maxEig < delta:\n",
    "        EigenV[0] = EigenV[0] * (1 + delta)\n",
    "        EigenV[1] = EigenV[1] * (1 - delta)\n",
    "        EigenV[2] = EigenV[2] / ((1 + delta)*(1-delta))\n",
    "    elif abs(EigenV[0]-EigenV[2])/maxEig < delta:\n",
    "        EigenV[0] = EigenV[0] * (1 + delta)\n",
    "        EigenV[1] = EigenV[1] / ((1 + delta)*(1-delta))\n",
    "        EigenV[2] = EigenV[2] * (1 - delta)\n",
    "    elif abs(EigenV[1]-EigenV[2])/maxEig < delta:\n",
    "        EigenV[0] = EigenV[0] / ((1 + delta)*(1-delta))\n",
    "        EigenV[1] = EigenV[1] * (1 + delta)\n",
    "        EigenV[2] = EigenV[2] * (1 - delta)\n",
    "    \n",
    "    D = np.array([0.,0.,0.])\n",
    "    #can we use np.prod?\n",
    "    D[0] = (EigenV[0] - EigenV[1]) * (EigenV[0] - EigenV[2])\n",
    "    D[1] = (EigenV[1] - EigenV[0]) * (EigenV[1] - EigenV[2])\n",
    "    D[2] = (EigenV[2] - EigenV[0]) * (EigenV[2] - EigenV[1])\n",
    "\n",
    "    P = [] #empty array\n",
    "    for i in range(3):\n",
    "        temp = I.copy() # identity matrix\n",
    "        for j in range(3):\n",
    "            if i != j: \n",
    "                temp = np.dot(temp, (T - EigenV[j] * I))\n",
    "        P.append(temp / D[i])\n",
    "        \n",
    "    return EigenV, P"
   ]
  },
  {
   "cell_type": "markdown",
   "id": "d705507c",
   "metadata": {},
   "source": [
    "We can uncomment the line below, to select the tensor."
   ]
  },
  {
   "cell_type": "code",
   "execution_count": null,
   "id": "10056a79",
   "metadata": {},
   "outputs": [
    {
     "name": "stdout",
     "output_type": "stream",
     "text": [
      "Sum of projections: [[ 1.00000000e+00 -9.86076132e-32  0.00000000e+00]\n",
      " [ 0.00000000e+00  1.00000000e+00  0.00000000e+00]\n",
      " [ 0.00000000e+00  0.00000000e+00  1.00000000e+00]]\n",
      "Sum of (eigenvalue * projection): [[1. 1. 1.]\n",
      " [0. 2. 2.]\n",
      " [0. 0. 3.]]\n",
      "Original matrix T: [[1 1 1]\n",
      " [0 2 2]\n",
      " [0 0 3]]\n",
      "exp(T) using spectral decomp: [[ 2.71828183  4.67077427 16.7093341 ]\n",
      " [ 0.          7.3890561  25.39296165]\n",
      " [ 0.          0.         20.08553692]]\n",
      "exp(T) using scipy: [[ 2.71828183  4.67077427 16.7093341 ]\n",
      " [ 0.          7.3890561  25.39296165]\n",
      " [ 0.          0.         20.08553692]]\n"
     ]
    }
   ],
   "source": [
    "#T=A\n",
    "T=B\n",
    "#T=C\n",
    "\n",
    "EigenV, P = calcEP(T)"
   ]
  },
  {
   "cell_type": "markdown",
   "id": "83799c27",
   "metadata": {},
   "source": [
    "We can check to see if the conditions below are met\n",
    "\n",
    "$$\n",
    "\\begin{cases}\n",
    "I=\\sum_{i=1}^3 P_i \\\\\n",
    "T=\\sum_{i=1}^3\\lambda_i P_i\n",
    "\\end{cases}\n",
    "$$\n",
    "\n",
    "The `numpy.testing` module has a wonderful option for checking to see if two values are nearly equal called `assert_almost_equal`, this is great since this (a) automates the process for checking and (b) accounts for floating point errors. 😃"
   ]
  },
  {
   "cell_type": "code",
   "execution_count": 41,
   "id": "d60d70b3",
   "metadata": {},
   "outputs": [
    {
     "name": "stdout",
     "output_type": "stream",
     "text": [
      "Sum of projections:\n",
      "array([[ 1.00000000e+00, -9.86076132e-32,  0.00000000e+00],\n",
      "       [ 0.00000000e+00,  1.00000000e+00,  0.00000000e+00],\n",
      "       [ 0.00000000e+00,  0.00000000e+00,  1.00000000e+00]])\n",
      "Are sum_P and I NOT (almost) equal?\n",
      "None\n"
     ]
    }
   ],
   "source": [
    "# sum(P_i) should be the identity matrix\n",
    "sum_P = np.sum(np.array(P), axis=0)\n",
    "print(\"Sum of projections:\")\n",
    "pprint(sum_P)\n",
    "\n",
    "print(\"Are sum_P and I NOT (almost) equal?\")\n",
    "print(np.testing.assert_almost_equal(sum_P, I, err_msg=\"Sum of projections is not equal to identity matrix!\"))"
   ]
  },
  {
   "cell_type": "code",
   "execution_count": 43,
   "id": "8c6f1fd4",
   "metadata": {},
   "outputs": [
    {
     "name": "stdout",
     "output_type": "stream",
     "text": [
      "Sum of (eigenvalue * projection):\n",
      "array([[1., 1., 1.],\n",
      "       [0., 2., 2.],\n",
      "       [0., 0., 3.]])\n",
      "Original matrix T: [[1 1 1]\n",
      " [0 2 2]\n",
      " [0 0 3]]\n",
      "Are sum_lambda_P and T NOT (almost) equal?\n",
      "None\n"
     ]
    }
   ],
   "source": [
    "# sum(lambda_i * P_i) has to be = T: Should be the original matrix T\n",
    "sum_lambda_P = np.sum(np.array([EigenV[i] * P[i] for i in range(3)]), axis=0)\n",
    "print(\"Sum of (eigenvalue * projection):\")\n",
    "pprint(sum_lambda_P)\n",
    "print(\"Original matrix T:\", T)\n",
    "\n",
    "print(\"Are sum_lambda_P and T NOT (almost) equal?\")\n",
    "print(np.testing.assert_almost_equal(sum_P, I, err_msg=\"sum(lambda_i * P_i) has to be = T: Should be the original matrix T!\"))"
   ]
  },
  {
   "cell_type": "markdown",
   "id": "7c876d45",
   "metadata": {},
   "source": [
    "Finally, as an additional verification step we calculate $e^T$ where\n",
    "\n",
    "$$\n",
    "e^T=\\sum e^{\\lambda_i} P_i\n",
    "$$\n",
    "\n",
    "We verify this with the `scipy.linalg.expm` method."
   ]
  },
  {
   "cell_type": "code",
   "execution_count": 45,
   "id": "8013410f",
   "metadata": {},
   "outputs": [
    {
     "name": "stdout",
     "output_type": "stream",
     "text": [
      "exp(T) using spectral decomp:\n",
      "array([[ 2.71828183,  4.67077427, 16.7093341 ],\n",
      "       [ 0.        ,  7.3890561 , 25.39296165],\n",
      "       [ 0.        ,  0.        , 20.08553692]])\n",
      "exp(T) using scipy:\n",
      "array([[ 2.71828183,  4.67077427, 16.7093341 ],\n",
      "       [ 0.        ,  7.3890561 , 25.39296165],\n",
      "       [ 0.        ,  0.        , 20.08553692]])\n",
      "Are exp_T_spectral and exp_T_scipy NOT (almost) equal?\n",
      "None\n"
     ]
    }
   ],
   "source": [
    "# Calculate exp(T) \n",
    "exp_T_spectral = np.sum(np.array([np.exp(EigenV[i]) * P[i] for i in range(3)]), axis=0)\n",
    "exp_T_scipy = expm(T)\n",
    "\n",
    "print(\"exp(T) using spectral decomp:\")\n",
    "pprint(exp_T_spectral)\n",
    "print(\"exp(T) using scipy:\")\n",
    "pprint(exp_T_scipy)\n",
    "\n",
    "\n",
    "print(\"Are exp_T_spectral and exp_T_scipy NOT (almost) equal?\")\n",
    "print(np.testing.assert_almost_equal(exp_T_spectral, exp_T_scipy, err_msg=\"\"))"
   ]
  }
 ],
 "metadata": {
  "kernelspec": {
   "display_name": ".venv",
   "language": "python",
   "name": "python3"
  },
  "language_info": {
   "codemirror_mode": {
    "name": "ipython",
    "version": 3
   },
   "file_extension": ".py",
   "mimetype": "text/x-python",
   "name": "python",
   "nbconvert_exporter": "python",
   "pygments_lexer": "ipython3",
   "version": "3.12.3"
  }
 },
 "nbformat": 4,
 "nbformat_minor": 5
}
