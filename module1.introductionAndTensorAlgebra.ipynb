{
 "cells": [
  {
   "cell_type": "markdown",
   "metadata": {},
   "source": []
  },
  {
   "cell_type": "markdown",
   "metadata": {},
   "source": [
    "A vector is defined as a set of components that transform as\n",
    "$$a_i = M_{ij}a_j'$$\n",
    "under a rotation of the coordination system.\n",
    "\n",
    "If something does not change under transformation, then it is considered an invarient. In this case, we imagine that that for example the vector does not change.\n",
    "\n",
    "$a \\cdot b = a_i' b_i' = M_{ij}a_j' M_{ik}b_k' = \\delta_{jk} a_j b_k = a_{j}b_{j}= a_{k}b_{k}$\n",
    "\n",
    "Should this be $a_i b_i$ instead? YES. fixed"
   ]
  },
  {
   "cell_type": "markdown",
   "metadata": {},
   "source": [
    "dyadic product\n",
    "\n",
    "$c=a\\cdot b$ const order 0\n",
    "\n",
    "$c=a\\times b$ vector order 1\n",
    "\n",
    "$c=a\\otimes b$ tensor order 2\n",
    "\n",
    "But everything is a tensor!!\n",
    "\n",
    "$a\\otimes b = a_i e_i \\otimes b_j e_j = a_i b_j  e_i \\otimes  e_j \n",
    "\n",
    "We define (represent) a second order tensor to be linear combination of dyadic products. \n",
    "\n",
    "Meaning ->\n",
    "$$A = A_{ij} e_j \\otimes e_j$$\n",
    "OR\n",
    "$$A= \\alpha (U\\otimes v) + \\beta (w\\otimes x)$$\n",
    "\n",
    "The tensor product or dyad of vectors u and v is denoated \n",
    "Send felanamlan request for whiteboard\n",
    "\n",
    "$u \\otimes v = u_{i} v_{j}e_i \\otimes e_j = A_{ij}e_i \\otimes e_j$\n",
    "\n",
    "Then\n",
    "\n",
    "A = [] = [u_1 v_1  u_1 v_2 ...]\n",
    "\n",
    "What is the the difference between a tensor and a matrix? -> https://math.stackexchange.com/questions/412423/what-are-the-differences-between-a-matrix-and-a-tensor https://www.reddit.com/r/math/comments/1g7nlp/are_tensors_and_matrices_the_same_thing/?rdt=44972 https://www.reddit.com/r/math/comments/1g7nlp/are_tensors_and_matrices_the_same_thing/?rdt=44972\n",
    "\n",
    "a tensor whose properties \n",
    "\n",
    "$$A_{ij}=A_{ji}, \\; M=M^T$$\n",
    "\n",
    "in any coordinate system \n",
    "\n",
    "trace of matrix, represents hydrostatic pressure.\n",
    "\n",
    "Next time, multiplication and decompose 2nd order tensors."
   ]
  }
 ],
 "metadata": {
  "kernelspec": {
   "display_name": "Python 3",
   "language": "python",
   "name": "python3"
  },
  "language_info": {
   "name": "python",
   "version": "3.12.3"
  }
 },
 "nbformat": 4,
 "nbformat_minor": 2
}
